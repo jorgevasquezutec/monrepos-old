{
 "cells": [
  {
   "cell_type": "code",
   "execution_count": 15,
   "metadata": {},
   "outputs": [
    {
     "name": "stdout",
     "output_type": "stream",
     "text": [
      "   pedido   orden modelo talla  ccactual        codigo\n",
      "0    3838  3838-1    I59     L       100  038380100001\n",
      "1    3838  3838-1    I59     M       110  038380100002\n",
      "2    3838  3838-1    J35    XL       600  038380100003\n",
      "3    3838  3838-1    J35    XL       500  038380100004\n"
     ]
    }
   ],
   "source": [
    "import pandas as pd\n",
    "\n",
    "data = {\n",
    "    'pedido': [3838, 3838, 3838, 3838],\n",
    "    'orden': ['3838-1', '3838-1', '3838-1', '3838-1'],\n",
    "    'modelo': ['I59', 'I59', 'J35', 'J35'],\n",
    "    'talla': ['L', 'M', 'XL', 'XL'],\n",
    "    'ccactual': [100, 110, 600, 500],\n",
    "    'codigo': ['038380100001', '038380100002', '038380100003', '038380100004']\n",
    "}\n",
    "df = pd.DataFrame(data)\n",
    "\n",
    "# Mostrar el DataFrame\n",
    "print(df)"
   ]
  },
  {
   "cell_type": "code",
   "execution_count": 28,
   "metadata": {},
   "outputs": [
    {
     "name": "stdout",
     "output_type": "stream",
     "text": [
      "  modelo  L  M  XL  OTRAS  100  110  600\n",
      "0    I59  1  1   0      0    1    1    0\n",
      "1    J35  0  0   2      1    0    0    1\n"
     ]
    }
   ],
   "source": [
    " #Pivoteo del DataFrame para contar las cantidades por \"modelo\" y \"talla\"\n",
    "informe_talla = df.pivot_table(index=[\"modelo\"],\n",
    "                               columns=[\"talla\"], values=\"codigo\", aggfunc=\"count\", fill_value=0)\n",
    "\n",
    "# Pivoteo del DataFrame para contar las cantidades por \"modelo\" y \"ccactual\"\n",
    "informe_ccactual = df.pivot_table(index=[\"modelo\"],\n",
    "                                  columns=[\"ccactual\"], values=\"codigo\", aggfunc=\"count\", fill_value=0)\n",
    "\n",
    "# Calcular la columna \"OTRAS\" como la suma de ccactual diferentes de 100, 110 y 600\n",
    "informe_ccactual['OTRAS'] = informe_ccactual.sum(axis=1) - informe_ccactual[100] - informe_ccactual[110] - informe_ccactual[600]\n",
    "\n",
    "# Unir los dos DataFrames por \"modelo\"\n",
    "informe = informe_talla.join(informe_ccactual)\n",
    "\n",
    "# Reiniciar el índice\n",
    "informe.reset_index(inplace=True)\n",
    "\n",
    "# Mostrar el resultado\n",
    "print(informe[['modelo', 'L', 'M', 'XL', 'OTRAS', 100, 110, 600]])"
   ]
  }
 ],
 "metadata": {
  "kernelspec": {
   "display_name": "monrepos",
   "language": "python",
   "name": "python3"
  },
  "language_info": {
   "codemirror_mode": {
    "name": "ipython",
    "version": 3
   },
   "file_extension": ".py",
   "mimetype": "text/x-python",
   "name": "python",
   "nbconvert_exporter": "python",
   "pygments_lexer": "ipython3",
   "version": "3.9.18"
  }
 },
 "nbformat": 4,
 "nbformat_minor": 2
}
