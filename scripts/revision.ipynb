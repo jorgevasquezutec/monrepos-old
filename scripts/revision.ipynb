{
 "cells": [
  {
   "cell_type": "code",
   "execution_count": 1,
   "metadata": {},
   "outputs": [],
   "source": [
    "from dbfread import DBF\n",
    "import pandas as pd\n",
    "import openpyxl"
   ]
  },
  {
   "cell_type": "code",
   "execution_count": 2,
   "metadata": {},
   "outputs": [],
   "source": [
    "from IPython.core.interactiveshell import InteractiveShell\n",
    "InteractiveShell.ast_node_interactivity = \"all\""
   ]
  },
  {
   "cell_type": "code",
   "execution_count": 3,
   "metadata": {},
   "outputs": [],
   "source": [
    "\n",
    "#si no encuentra su traspaso , tiene que buscarlo en la anterios fecha\n",
    "\n",
    "COSTOS22 = 'Bases 2022/31-12-2022/Spm2003/2022/costos22.DBF'\n",
    "TRASPASOS = 'Bases 2022/31-12-2022/Spm2003/2022/traspasos.DBF'\n",
    "TRASPASOS_2021= 'Bases 2021/31-12-2021/Spm2003/2021/traspasos.DBF'\n"
   ]
  },
  {
   "cell_type": "code",
   "execution_count": 4,
   "metadata": {},
   "outputs": [],
   "source": [
    "dbf = DBF(COSTOS22)"
   ]
  },
  {
   "cell_type": "code",
   "execution_count": 5,
   "metadata": {},
   "outputs": [],
   "source": [
    "df = pd.DataFrame(dbf)"
   ]
  },
  {
   "cell_type": "code",
   "execution_count": 6,
   "metadata": {},
   "outputs": [
    {
     "name": "stdout",
     "output_type": "stream",
     "text": [
      "PEDIDO        18872\n",
      "ORDEN         18872\n",
      "CODCLI        18872\n",
      "CLIENTE       18872\n",
      "CANTIDAD      18872\n",
      "              ...  \n",
      "STAT_SOLD     18872\n",
      "TPDOC_SOLD    18872\n",
      "NUDOC_SOLD    18872\n",
      "FEC_SOLD          0\n",
      "NUDOC_GRP     18872\n",
      "Length: 208, dtype: int64\n"
     ]
    }
   ],
   "source": [
    "# print(df.columns)\n",
    "#print records\n",
    "print(df.count())"
   ]
  },
  {
   "cell_type": "code",
   "execution_count": 7,
   "metadata": {},
   "outputs": [
    {
     "data": {
      "text/plain": [
       "Index(['PEDIDO', 'ORDEN', 'CODCLI', 'CLIENTE', 'CANTIDAD', 'PREVTA',\n",
       "       'CESTIMADO', 'INICIO', 'ENTREGA', 'CANTI',\n",
       "       ...\n",
       "       'COSTO_PRME', 'TPCAM', 'STAT_ELI', 'USER_ELI', 'STAT_LNPRD',\n",
       "       'STAT_SOLD', 'TPDOC_SOLD', 'NUDOC_SOLD', 'FEC_SOLD', 'NUDOC_GRP'],\n",
       "      dtype='object', length=208)"
      ]
     },
     "metadata": {},
     "output_type": "display_data"
    }
   ],
   "source": [
    "display(df.columns)"
   ]
  },
  {
   "cell_type": "code",
   "execution_count": 8,
   "metadata": {},
   "outputs": [],
   "source": [
    "# df.head(1) export to excel\n",
    "dfexport = df.head(1)\n",
    "dfexport.to_excel(\"output.xlsx\")  "
   ]
  },
  {
   "cell_type": "code",
   "execution_count": 39,
   "metadata": {},
   "outputs": [
    {
     "name": "stdout",
     "output_type": "stream",
     "text": [
      "  PEDIDO    ORDEN  CODCLI                   CLIENTE  CANTIDAD      INICIO  \\\n",
      "0   3951  3951-01  120366  ALPACA INTERNATIONAL INC        48  2021-09-29   \n",
      "\n",
      "      ENTREGA CODART ARTICULO MODELO         NMODELO  \n",
      "0  2021-11-30     15     SACO    248  JACKET DENISSE  \n"
     ]
    }
   ],
   "source": [
    "#select from df columns ['PEDIDO', 'ORDEN']\n",
    "COLUMNS = [\n",
    "    'PEDIDO',\n",
    "    'ORDEN',\n",
    "    'CODCLI',\n",
    "    'CLIENTE',\n",
    "    'CANTIDAD',\n",
    "    'INICIO',\n",
    "    'ENTREGA',\n",
    "    'CODART',\n",
    "    'ARTICULO',\n",
    "    'MODELO',\n",
    "    'NMODELO'\n",
    "    ]\n",
    "df2 = df[COLUMNS]\n",
    "print(df2.head(1))"
   ]
  }
 ],
 "metadata": {
  "kernelspec": {
   "display_name": "monrepos",
   "language": "python",
   "name": "python3"
  },
  "language_info": {
   "codemirror_mode": {
    "name": "ipython",
    "version": 3
   },
   "file_extension": ".py",
   "mimetype": "text/x-python",
   "name": "python",
   "nbconvert_exporter": "python",
   "pygments_lexer": "ipython3",
   "version": "3.10.11"
  },
  "orig_nbformat": 4
 },
 "nbformat": 4,
 "nbformat_minor": 2
}
