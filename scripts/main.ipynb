{
 "cells": [
  {
   "cell_type": "code",
   "execution_count": 6,
   "metadata": {},
   "outputs": [
    {
     "data": {
      "text/plain": [
       "' \\n    To do\\n    [ ] - Read the DBF file\\n    [ ] - Convertir DBF to pandas\\n    [ ] - Clean the data\\n'"
      ]
     },
     "execution_count": 6,
     "metadata": {},
     "output_type": "execute_result"
    }
   ],
   "source": [
    "from dbfread import DBF\n",
    "import pandas as pd\n",
    "import dask.dataframe as dd\n",
    "from pandas import DataFrame\n",
    "\n",
    "\"\"\" \n",
    "    To do\n",
    "    [ ] - Read the DBF file\n",
    "    [ ] - Convertir DBF to pandas\n",
    "    [ ] - Clean the data\n",
    "\"\"\""
   ]
  },
  {
   "cell_type": "code",
   "execution_count": 12,
   "metadata": {},
   "outputs": [],
   "source": [
    "\n",
    "#si no encuentra su traspaso , tiene que buscarlo en la anterios fecha\n",
    "\n",
    "COSTOS22 = 'Bases 2022/31-12-2022/Spm2003/2022/costos22.DBF'\n",
    "TRASPASOS = 'Bases 2022/31-12-2022/Spm2003/2022/traspasos.DBF'\n",
    "TRASPASOS_2021= 'Bases 2021/31-12-2021/Spm2003/2021/traspasos.DBF'\n"
   ]
  },
  {
   "cell_type": "code",
   "execution_count": 13,
   "metadata": {},
   "outputs": [],
   "source": [
    "# Read the DBF file\n",
    "dbf = DBF(COSTOS22)\n",
    "\n",
    "# Convertir DBF to pandas dask\n",
    "# data = dd.from_pandas(pd.DataFrame(iter(dbf)), npartitions=3)"
   ]
  },
  {
   "cell_type": "code",
   "execution_count": 4,
   "metadata": {},
   "outputs": [],
   "source": [
    "class Record(object):\n",
    "    def __init__(self, items):\n",
    "        for (name, value) in items:\n",
    "            setattr(self, name, value)"
   ]
  },
  {
   "cell_type": "code",
   "execution_count": 78,
   "metadata": {},
   "outputs": [],
   "source": [
    "# data = data.astype({\"PASO1\": 'int64'})"
   ]
  },
  {
   "cell_type": "code",
   "execution_count": 10,
   "metadata": {},
   "outputs": [],
   "source": [
    "dbfTraspasos = DBF(TRASPASOS)\n",
    "# Convertir DBF to pandas dask\n"
   ]
  },
  {
   "cell_type": "code",
   "execution_count": null,
   "metadata": {},
   "outputs": [],
   "source": [
    "dataTraspasos = dd.from_pandas(pd.DataFrame(iter(dbfTraspasos)), npartitions=3)\n"
   ]
  },
  {
   "cell_type": "code",
   "execution_count": 9,
   "metadata": {},
   "outputs": [],
   "source": [
    "dataTraspasos = dataTraspasos.astype({\"NROTRASP\": 'int64'})"
   ]
  },
  {
   "cell_type": "code",
   "execution_count": 10,
   "metadata": {},
   "outputs": [],
   "source": [
    "dbfTraspasos2021 = DBF(TRASPASOS_2021)\n",
    "# Convertir DBF to pandas dask\n",
    "dataTraspasos2021 = dd.from_pandas(pd.DataFrame(iter(dbfTraspasos2021)), npartitions=3)"
   ]
  },
  {
   "cell_type": "code",
   "execution_count": 11,
   "metadata": {},
   "outputs": [],
   "source": [
    "dataTraspasos2021 = dataTraspasos.astype({\"NROTRASP\": 'int64'})\n"
   ]
  },
  {
   "cell_type": "code",
   "execution_count": 12,
   "metadata": {},
   "outputs": [],
   "source": [
    "dataTraspasos= dd.concat([dataTraspasos,dataTraspasos2021],axis=0)\n",
    "dataTraspasos = dataTraspasos[['NROTRASP','FECHORA']]"
   ]
  },
  {
   "cell_type": "code",
   "execution_count": 137,
   "metadata": {},
   "outputs": [
    {
     "data": {
      "text/html": [
       "<div>\n",
       "<style scoped>\n",
       "    .dataframe tbody tr th:only-of-type {\n",
       "        vertical-align: middle;\n",
       "    }\n",
       "\n",
       "    .dataframe tbody tr th {\n",
       "        vertical-align: top;\n",
       "    }\n",
       "\n",
       "    .dataframe thead th {\n",
       "        text-align: right;\n",
       "    }\n",
       "</style>\n",
       "<table border=\"1\" class=\"dataframe\">\n",
       "  <thead>\n",
       "    <tr style=\"text-align: right;\">\n",
       "      <th></th>\n",
       "      <th>NROTRASP</th>\n",
       "      <th>FECHORA</th>\n",
       "    </tr>\n",
       "  </thead>\n",
       "  <tbody>\n",
       "    <tr>\n",
       "      <th>0</th>\n",
       "      <td>549332</td>\n",
       "      <td>2022-01-03 10:30:49.000</td>\n",
       "    </tr>\n",
       "    <tr>\n",
       "      <th>1</th>\n",
       "      <td>549333</td>\n",
       "      <td>2022-01-03 10:42:30.999</td>\n",
       "    </tr>\n",
       "    <tr>\n",
       "      <th>2</th>\n",
       "      <td>549334</td>\n",
       "      <td>2022-01-03 10:42:53.999</td>\n",
       "    </tr>\n",
       "    <tr>\n",
       "      <th>3</th>\n",
       "      <td>549335</td>\n",
       "      <td>2022-01-03 10:43:04.000</td>\n",
       "    </tr>\n",
       "    <tr>\n",
       "      <th>4</th>\n",
       "      <td>549336</td>\n",
       "      <td>2022-01-03 10:43:19.000</td>\n",
       "    </tr>\n",
       "  </tbody>\n",
       "</table>\n",
       "</div>"
      ],
      "text/plain": [
       "   NROTRASP                 FECHORA\n",
       "0    549332 2022-01-03 10:30:49.000\n",
       "1    549333 2022-01-03 10:42:30.999\n",
       "2    549334 2022-01-03 10:42:53.999\n",
       "3    549335 2022-01-03 10:43:04.000\n",
       "4    549336 2022-01-03 10:43:19.000"
      ]
     },
     "execution_count": 137,
     "metadata": {},
     "output_type": "execute_result"
    }
   ],
   "source": [
    "dataTraspasos.head()"
   ]
  },
  {
   "cell_type": "code",
   "execution_count": 13,
   "metadata": {},
   "outputs": [
    {
     "data": {
      "text/html": [
       "<div>\n",
       "<style scoped>\n",
       "    .dataframe tbody tr th:only-of-type {\n",
       "        vertical-align: middle;\n",
       "    }\n",
       "\n",
       "    .dataframe tbody tr th {\n",
       "        vertical-align: top;\n",
       "    }\n",
       "\n",
       "    .dataframe thead th {\n",
       "        text-align: right;\n",
       "    }\n",
       "</style>\n",
       "<table border=\"1\" class=\"dataframe\">\n",
       "  <thead>\n",
       "    <tr style=\"text-align: right;\">\n",
       "      <th></th>\n",
       "      <th>NROTRASP</th>\n",
       "      <th>FECHORA</th>\n",
       "    </tr>\n",
       "  </thead>\n",
       "  <tbody>\n",
       "  </tbody>\n",
       "</table>\n",
       "</div>"
      ],
      "text/plain": [
       "Empty DataFrame\n",
       "Columns: [NROTRASP, FECHORA]\n",
       "Index: []"
      ]
     },
     "execution_count": 13,
     "metadata": {},
     "output_type": "execute_result"
    }
   ],
   "source": [
    "dataTraspasos.query('NROTRASP==519919').compute()"
   ]
  },
  {
   "cell_type": "code",
   "execution_count": 157,
   "metadata": {},
   "outputs": [
    {
     "data": {
      "text/html": [
       "<div>\n",
       "<style scoped>\n",
       "    .dataframe tbody tr th:only-of-type {\n",
       "        vertical-align: middle;\n",
       "    }\n",
       "\n",
       "    .dataframe tbody tr th {\n",
       "        vertical-align: top;\n",
       "    }\n",
       "\n",
       "    .dataframe thead th {\n",
       "        text-align: right;\n",
       "    }\n",
       "</style>\n",
       "<table border=\"1\" class=\"dataframe\">\n",
       "  <thead>\n",
       "    <tr style=\"text-align: right;\">\n",
       "      <th></th>\n",
       "      <th>NROTRASP</th>\n",
       "      <th>ORDEN</th>\n",
       "      <th>DCCOSTO</th>\n",
       "      <th>ACCOSTO</th>\n",
       "      <th>CANT_PR</th>\n",
       "      <th>FECHORA</th>\n",
       "      <th>ESTADO</th>\n",
       "      <th>USUARIO</th>\n",
       "      <th>OBS_TRP</th>\n",
       "    </tr>\n",
       "  </thead>\n",
       "  <tbody>\n",
       "  </tbody>\n",
       "</table>\n",
       "</div>"
      ],
      "text/plain": [
       "Empty DataFrame\n",
       "Columns: [NROTRASP, ORDEN, DCCOSTO, ACCOSTO, CANT_PR, FECHORA, ESTADO, USUARIO, OBS_TRP]\n",
       "Index: []"
      ]
     },
     "execution_count": 157,
     "metadata": {},
     "output_type": "execute_result"
    }
   ],
   "source": [
    "dataTraspasos2021.query('NROTRASP==546303').compute()"
   ]
  },
  {
   "cell_type": "code",
   "execution_count": 143,
   "metadata": {},
   "outputs": [],
   "source": [
    "reduceData = data[['CODIGO','PASO1','CCOSTO1','FECHA1']]"
   ]
  },
  {
   "cell_type": "code",
   "execution_count": 148,
   "metadata": {},
   "outputs": [],
   "source": [
    "NAME = \"PASO1\"\n",
    "join = reduceData.merge(dataTraspasos, left_on='PASO1', right_on='NROTRASP', how='left')\n",
    "join = join.rename(columns={'FECHORA': 'FECHORA1'})"
   ]
  },
  {
   "cell_type": "code",
   "execution_count": 149,
   "metadata": {},
   "outputs": [
    {
     "data": {
      "text/html": [
       "<div>\n",
       "<style scoped>\n",
       "    .dataframe tbody tr th:only-of-type {\n",
       "        vertical-align: middle;\n",
       "    }\n",
       "\n",
       "    .dataframe tbody tr th {\n",
       "        vertical-align: top;\n",
       "    }\n",
       "\n",
       "    .dataframe thead th {\n",
       "        text-align: right;\n",
       "    }\n",
       "</style>\n",
       "<table border=\"1\" class=\"dataframe\">\n",
       "  <thead>\n",
       "    <tr style=\"text-align: right;\">\n",
       "      <th></th>\n",
       "      <th>CODIGO</th>\n",
       "      <th>PASO1</th>\n",
       "      <th>CCOSTO1</th>\n",
       "      <th>FECHA1</th>\n",
       "      <th>NROTRASP</th>\n",
       "      <th>FECHORA1</th>\n",
       "    </tr>\n",
       "  </thead>\n",
       "  <tbody>\n",
       "    <tr>\n",
       "      <th>0</th>\n",
       "      <td>040990300001</td>\n",
       "      <td>567382</td>\n",
       "      <td>650</td>\n",
       "      <td>2022-08-31</td>\n",
       "      <td>567382.0</td>\n",
       "      <td>2022-08-31 10:43:55.000</td>\n",
       "    </tr>\n",
       "    <tr>\n",
       "      <th>1</th>\n",
       "      <td>040990300001</td>\n",
       "      <td>567382</td>\n",
       "      <td>650</td>\n",
       "      <td>2022-08-31</td>\n",
       "      <td>567382.0</td>\n",
       "      <td>2022-08-31 10:43:55.000</td>\n",
       "    </tr>\n",
       "    <tr>\n",
       "      <th>2</th>\n",
       "      <td>040990300001</td>\n",
       "      <td>567382</td>\n",
       "      <td>650</td>\n",
       "      <td>2022-08-31</td>\n",
       "      <td>567382.0</td>\n",
       "      <td>2022-08-31 10:43:55.000</td>\n",
       "    </tr>\n",
       "    <tr>\n",
       "      <th>3</th>\n",
       "      <td>040990300001</td>\n",
       "      <td>567382</td>\n",
       "      <td>650</td>\n",
       "      <td>2022-08-31</td>\n",
       "      <td>567382.0</td>\n",
       "      <td>2022-08-31 10:43:55.000</td>\n",
       "    </tr>\n",
       "    <tr>\n",
       "      <th>4</th>\n",
       "      <td>040990300001</td>\n",
       "      <td>567382</td>\n",
       "      <td>650</td>\n",
       "      <td>2022-08-31</td>\n",
       "      <td>567382.0</td>\n",
       "      <td>2022-08-31 10:43:55.000</td>\n",
       "    </tr>\n",
       "    <tr>\n",
       "      <th>...</th>\n",
       "      <td>...</td>\n",
       "      <td>...</td>\n",
       "      <td>...</td>\n",
       "      <td>...</td>\n",
       "      <td>...</td>\n",
       "      <td>...</td>\n",
       "    </tr>\n",
       "    <tr>\n",
       "      <th>7092</th>\n",
       "      <td>040940100001</td>\n",
       "      <td>566792</td>\n",
       "      <td>100</td>\n",
       "      <td>2022-08-24</td>\n",
       "      <td>566792.0</td>\n",
       "      <td>2022-08-24 08:52:37.999</td>\n",
       "    </tr>\n",
       "    <tr>\n",
       "      <th>7093</th>\n",
       "      <td>040940100001</td>\n",
       "      <td>566792</td>\n",
       "      <td>100</td>\n",
       "      <td>2022-08-24</td>\n",
       "      <td>566792.0</td>\n",
       "      <td>2022-08-24 08:52:37.999</td>\n",
       "    </tr>\n",
       "    <tr>\n",
       "      <th>7094</th>\n",
       "      <td>040940100001</td>\n",
       "      <td>566792</td>\n",
       "      <td>100</td>\n",
       "      <td>2022-08-24</td>\n",
       "      <td>566792.0</td>\n",
       "      <td>2022-08-24 08:52:37.999</td>\n",
       "    </tr>\n",
       "    <tr>\n",
       "      <th>7095</th>\n",
       "      <td>040940100001</td>\n",
       "      <td>566792</td>\n",
       "      <td>100</td>\n",
       "      <td>2022-08-24</td>\n",
       "      <td>566792.0</td>\n",
       "      <td>2022-08-24 08:52:37.999</td>\n",
       "    </tr>\n",
       "    <tr>\n",
       "      <th>7096</th>\n",
       "      <td>040940100001</td>\n",
       "      <td>566792</td>\n",
       "      <td>100</td>\n",
       "      <td>2022-08-24</td>\n",
       "      <td>566792.0</td>\n",
       "      <td>2022-08-24 08:52:37.999</td>\n",
       "    </tr>\n",
       "  </tbody>\n",
       "</table>\n",
       "<p>87112 rows × 6 columns</p>\n",
       "</div>"
      ],
      "text/plain": [
       "            CODIGO   PASO1 CCOSTO1      FECHA1  NROTRASP  \\\n",
       "0     040990300001  567382     650  2022-08-31  567382.0   \n",
       "1     040990300001  567382     650  2022-08-31  567382.0   \n",
       "2     040990300001  567382     650  2022-08-31  567382.0   \n",
       "3     040990300001  567382     650  2022-08-31  567382.0   \n",
       "4     040990300001  567382     650  2022-08-31  567382.0   \n",
       "...            ...     ...     ...         ...       ...   \n",
       "7092  040940100001  566792     100  2022-08-24  566792.0   \n",
       "7093  040940100001  566792     100  2022-08-24  566792.0   \n",
       "7094  040940100001  566792     100  2022-08-24  566792.0   \n",
       "7095  040940100001  566792     100  2022-08-24  566792.0   \n",
       "7096  040940100001  566792     100  2022-08-24  566792.0   \n",
       "\n",
       "                    FECHORA1  \n",
       "0    2022-08-31 10:43:55.000  \n",
       "1    2022-08-31 10:43:55.000  \n",
       "2    2022-08-31 10:43:55.000  \n",
       "3    2022-08-31 10:43:55.000  \n",
       "4    2022-08-31 10:43:55.000  \n",
       "...                      ...  \n",
       "7092 2022-08-24 08:52:37.999  \n",
       "7093 2022-08-24 08:52:37.999  \n",
       "7094 2022-08-24 08:52:37.999  \n",
       "7095 2022-08-24 08:52:37.999  \n",
       "7096 2022-08-24 08:52:37.999  \n",
       "\n",
       "[87112 rows x 6 columns]"
      ]
     },
     "execution_count": 149,
     "metadata": {},
     "output_type": "execute_result"
    }
   ],
   "source": [
    "join.compute()"
   ]
  },
  {
   "cell_type": "code",
   "execution_count": 150,
   "metadata": {},
   "outputs": [
    {
     "data": {
      "text/plain": [
       "1947"
      ]
     },
     "execution_count": 150,
     "metadata": {},
     "output_type": "execute_result"
    }
   ],
   "source": [
    "not_nan_count = join['FECHORA1'].isna().sum()\n",
    "not_nan_count.compute()"
   ]
  },
  {
   "cell_type": "code",
   "execution_count": 154,
   "metadata": {},
   "outputs": [
    {
     "data": {
      "text/html": [
       "<div>\n",
       "<style scoped>\n",
       "    .dataframe tbody tr th:only-of-type {\n",
       "        vertical-align: middle;\n",
       "    }\n",
       "\n",
       "    .dataframe tbody tr th {\n",
       "        vertical-align: top;\n",
       "    }\n",
       "\n",
       "    .dataframe thead th {\n",
       "        text-align: right;\n",
       "    }\n",
       "</style>\n",
       "<table border=\"1\" class=\"dataframe\">\n",
       "  <thead>\n",
       "    <tr style=\"text-align: right;\">\n",
       "      <th></th>\n",
       "      <th>CODIGO</th>\n",
       "      <th>PASO1</th>\n",
       "      <th>CCOSTO1</th>\n",
       "      <th>FECHA1</th>\n",
       "      <th>NROTRASP</th>\n",
       "      <th>FECHORA1</th>\n",
       "    </tr>\n",
       "  </thead>\n",
       "  <tbody>\n",
       "    <tr>\n",
       "      <th>0</th>\n",
       "      <td>039810500001</td>\n",
       "      <td>546303</td>\n",
       "      <td>100</td>\n",
       "      <td>2021-11-26</td>\n",
       "      <td>NaN</td>\n",
       "      <td>NaT</td>\n",
       "    </tr>\n",
       "    <tr>\n",
       "      <th>1</th>\n",
       "      <td>039810500002</td>\n",
       "      <td>546303</td>\n",
       "      <td>100</td>\n",
       "      <td>2021-11-26</td>\n",
       "      <td>NaN</td>\n",
       "      <td>NaT</td>\n",
       "    </tr>\n",
       "    <tr>\n",
       "      <th>2</th>\n",
       "      <td>039810500003</td>\n",
       "      <td>546303</td>\n",
       "      <td>100</td>\n",
       "      <td>2021-11-26</td>\n",
       "      <td>NaN</td>\n",
       "      <td>NaT</td>\n",
       "    </tr>\n",
       "    <tr>\n",
       "      <th>3</th>\n",
       "      <td>039810500004</td>\n",
       "      <td>546303</td>\n",
       "      <td>100</td>\n",
       "      <td>2021-11-26</td>\n",
       "      <td>NaN</td>\n",
       "      <td>NaT</td>\n",
       "    </tr>\n",
       "    <tr>\n",
       "      <th>4</th>\n",
       "      <td>039810500005</td>\n",
       "      <td>546303</td>\n",
       "      <td>100</td>\n",
       "      <td>2021-11-26</td>\n",
       "      <td>NaN</td>\n",
       "      <td>NaT</td>\n",
       "    </tr>\n",
       "  </tbody>\n",
       "</table>\n",
       "</div>"
      ],
      "text/plain": [
       "         CODIGO   PASO1 CCOSTO1      FECHA1  NROTRASP FECHORA1\n",
       "0  039810500001  546303     100  2021-11-26       NaN      NaT\n",
       "1  039810500002  546303     100  2021-11-26       NaN      NaT\n",
       "2  039810500003  546303     100  2021-11-26       NaN      NaT\n",
       "3  039810500004  546303     100  2021-11-26       NaN      NaT\n",
       "4  039810500005  546303     100  2021-11-26       NaN      NaT"
      ]
     },
     "execution_count": 154,
     "metadata": {},
     "output_type": "execute_result"
    }
   ],
   "source": [
    "result=join[join['FECHORA1'].isna()].head()\n",
    "result"
   ]
  }
 ],
 "metadata": {
  "kernelspec": {
   "display_name": "monrepos",
   "language": "python",
   "name": "python3"
  },
  "language_info": {
   "codemirror_mode": {
    "name": "ipython",
    "version": 3
   },
   "file_extension": ".py",
   "mimetype": "text/x-python",
   "name": "python",
   "nbconvert_exporter": "python",
   "pygments_lexer": "ipython3",
   "version": "3.10.11"
  },
  "orig_nbformat": 4,
  "vscode": {
   "interpreter": {
    "hash": "cd511b1e7346601046146111ae56fd4dbcbb94170e8da3b82c2ce1f8da48b31a"
   }
  }
 },
 "nbformat": 4,
 "nbformat_minor": 2
}
