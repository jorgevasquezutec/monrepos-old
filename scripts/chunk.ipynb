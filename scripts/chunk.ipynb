{
 "cells": [
  {
   "cell_type": "code",
   "execution_count": 2,
   "metadata": {},
   "outputs": [],
   "source": [
    "from dbfread import DBF\n",
    "import pandas as pd\n",
    "\n",
    "\n"
   ]
  },
  {
   "cell_type": "code",
   "execution_count": 5,
   "metadata": {},
   "outputs": [],
   "source": [
    "def cargar_dbf_por_chunks(nombre_archivo, chunk_size=1000):\n",
    "    \"\"\"\n",
    "    Carga un archivo DBF en memoria por chunks.\n",
    "\n",
    "    Args:\n",
    "    - nombre_archivo (str): El nombre del archivo DBF.\n",
    "    - chunk_size (int): Tamaño del chunk para dividir los datos.\n",
    "\n",
    "    Returns:\n",
    "    - Generador de DataFrames: Un generador que produce DataFrames de tamaño chunk_size.\n",
    "    \"\"\"\n",
    "    # Abre el archivo DBF\n",
    "    dbf = DBF(nombre_archivo)\n",
    "\n",
    "    # Inicializa un DataFrame vacío\n",
    "    df = pd.DataFrame()\n",
    "\n",
    "    # Itera sobre los registros y crea DataFrames por chunks\n",
    "    for record in dbf:\n",
    "        df = pd.concat([df, pd.DataFrame([record])], ignore_index=True)\n",
    "        if len(df) >= chunk_size:\n",
    "            # Produce el chunk actual como DataFrame\n",
    "            yield df\n",
    "            # Vacía el DataFrame\n",
    "            df = pd.DataFrame()\n",
    "\n",
    "    # Produce el último chunk si hay datos restantes\n",
    "    if not df.empty:\n",
    "        yield df"
   ]
  },
  {
   "cell_type": "code",
   "execution_count": 3,
   "metadata": {},
   "outputs": [],
   "source": [
    "TRASPASOS = 'Bases 2022/31-12-2022/Spm2003/2022/traspasos.DBF'"
   ]
  },
  {
   "cell_type": "code",
   "execution_count": null,
   "metadata": {},
   "outputs": [],
   "source": [
    "dbf = DBF(TRASPASOS)\n",
    "# total= dbf.\n",
    "# print(total)"
   ]
  },
  {
   "cell_type": "code",
   "execution_count": 6,
   "metadata": {},
   "outputs": [
    {
     "name": "stdout",
     "output_type": "stream",
     "text": [
      "     NROTRASP ORDEN DCCOSTO ACCOSTO CANT_PR                 FECHORA ESTADO  \\\n",
      "0      549332           670     680    None 2022-01-03 10:30:49.000          \n",
      "1      549333           611     670    None 2022-01-03 10:42:30.999          \n",
      "2      549334           670     680    None 2022-01-03 10:42:53.999          \n",
      "3      549335           680     140    None 2022-01-03 10:43:04.000          \n",
      "4      549336           140     550    None 2022-01-03 10:43:19.000          \n",
      "..        ...   ...     ...     ...     ...                     ...    ...   \n",
      "995    550327           550     600    None 2022-01-13 09:08:04.999          \n",
      "996    550328           127     610    None 2022-01-13 09:08:53.000          \n",
      "997    550329           610     611    None 2022-01-13 09:14:00.999          \n",
      "998    550330           611     140    None 2022-01-13 09:14:50.000          \n",
      "999    550331           140     670    None 2022-01-13 09:15:31.000          \n",
      "\n",
      "     USUARIO OBS_TRP  \n",
      "0    JJPEREZ    None  \n",
      "1    JJPEREZ    None  \n",
      "2    JJPEREZ    None  \n",
      "3    JJPEREZ    None  \n",
      "4    JJPEREZ    None  \n",
      "..       ...     ...  \n",
      "995  JJPEREZ    None  \n",
      "996  JJPEREZ    None  \n",
      "997  JJPEREZ    None  \n",
      "998  JJPEREZ    None  \n",
      "999  JJPEREZ    None  \n",
      "\n",
      "[1000 rows x 9 columns]\n"
     ]
    }
   ],
   "source": [
    "for chunk in cargar_dbf_por_chunks(TRASPASOS, chunk_size=1000):\n",
    "    # Procesa cada chunk de datos aquí\n",
    "    print(chunk)\n",
    "    break"
   ]
  }
 ],
 "metadata": {
  "kernelspec": {
   "display_name": "monrepos",
   "language": "python",
   "name": "python3"
  },
  "language_info": {
   "codemirror_mode": {
    "name": "ipython",
    "version": 3
   },
   "file_extension": ".py",
   "mimetype": "text/x-python",
   "name": "python",
   "nbconvert_exporter": "python",
   "pygments_lexer": "ipython3",
   "version": "3.10.11"
  },
  "orig_nbformat": 4
 },
 "nbformat": 4,
 "nbformat_minor": 2
}
