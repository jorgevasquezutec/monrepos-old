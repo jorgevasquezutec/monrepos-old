{
 "cells": [
  {
   "cell_type": "code",
   "execution_count": null,
   "metadata": {},
   "outputs": [],
   "source": [
    "'''\n",
    "    TO DO : \n",
    "    Flask-RESTX\n",
    "    Flask-JWT-Extended\n",
    "    Swagger Documentation (Part of Flask-RESTX).\n",
    "    Unit Testing.\n",
    "    Database ORM with Flask-SQLAlchemy\n",
    "    Database Migrations using Flask-Migrate\n",
    "    Object serialization with flask_accepts and Marshmallow.\n",
    "    Data validations with Marshmallow Marshmallow\n",
    "    BullMq for background tasks.\n",
    "    \n",
    "'''"
   ]
  },
  {
   "cell_type": "code",
   "execution_count": 1,
   "metadata": {},
   "outputs": [],
   "source": [
    "from dbfread import DBF\n"
   ]
  },
  {
   "cell_type": "code",
   "execution_count": 2,
   "metadata": {},
   "outputs": [],
   "source": [
    "COSTOS22 = 'Bases 2022/31-12-2022/Spm2003/2022/costos22.DBF'\n",
    "TRASPASOS = 'Bases 2022/31-12-2022/Spm2003/2022/traspasos.DBF'\n",
    "\n"
   ]
  },
  {
   "cell_type": "code",
   "execution_count": 3,
   "metadata": {},
   "outputs": [],
   "source": [
    "dbf = DBF(COSTOS22, encoding='latin1')"
   ]
  },
  {
   "cell_type": "code",
   "execution_count": 6,
   "metadata": {},
   "outputs": [
    {
     "name": "stdout",
     "output_type": "stream",
     "text": [
      "['PEDIDO', 'ORDEN', 'CODCLI', 'CLIENTE', 'CANTIDAD', 'PREVTA', 'CESTIMADO', 'INICIO', 'ENTREGA', 'CANTI', 'CODART', 'ARTICULO', 'MODELO', 'NMODELO', 'FORRO', 'CUELLO', 'ABCERR', 'COLOR', 'NCOLOR', 'TALLA', 'MEDIDA', 'NMEDIDA', 'TIPOLANA', 'TITULO', 'NTITULO', 'CBARRAS', 'ECBARRAS', 'FECHATR', 'FECHA', 'CCACTUAL', 'NCCACTUAL', 'PASO', 'VEZ', 'TIPO', 'FECHA1', 'CCOSTO1', 'NCCOSTO1', 'PASO1', 'VEZ1', 'TIPO1', 'FECHA2', 'CCOSTO2', 'NCCOSTO2', 'PASO2', 'VEZ2', 'TIPO2', 'FECHA3', 'CCOSTO3', 'NCCOSTO3', 'PASO3', 'VEZ3', 'TIPO3', 'FECHA4', 'CCOSTO4', 'NCCOSTO4', 'PASO4', 'VEZ4', 'TIPO4', 'FECHA5', 'CCOSTO5', 'NCCOSTO5', 'PASO5', 'VEZ5', 'TIPO5', 'FECHA6', 'CCOSTO6', 'NCCOSTO6', 'PASO6', 'VEZ6', 'TIPO6', 'FECHA7', 'CCOSTO7', 'NCCOSTO7', 'PASO7', 'VEZ7', 'TIPO7', 'FECHA8', 'CCOSTO8', 'NCCOSTO8', 'PASO8', 'VEZ8', 'TIPO8', 'FECHA9', 'CCOSTO9', 'NCCOSTO9', 'PASO9', 'VEZ9', 'TIPO9', 'FECHA10', 'CCOSTO10', 'NCCOSTO10', 'PASO10', 'VEZ10', 'TIPO10', 'FECHA11', 'CCOSTO11', 'NCCOSTO11', 'PASO11', 'VEZ11', 'TIPO11', 'FECHA12', 'CCOSTO12', 'NCCOSTO12', 'PASO12', 'VEZ12', 'TIPO12', 'FECHA13', 'CCOSTO13', 'NCCOSTO13', 'PASO13', 'VEZ13', 'TIPO13', 'FECHA14', 'CCOSTO14', 'NCCOSTO14', 'PASO14', 'VEZ14', 'TIPO14', 'FECHA15', 'CCOSTO15', 'NCCOSTO15', 'PASO15', 'VEZ15', 'TIPO15', 'FECHA16', 'CCOSTO16', 'NCCOSTO16', 'PASO16', 'VEZ16', 'TIPO16', 'FECHA17', 'CCOSTO17', 'NCCOSTO17', 'PASO17', 'VEZ17', 'TIPO17', 'FECHA18', 'CCOSTO18', 'NCCOSTO18', 'PASO18', 'VEZ18', 'TIPO18', 'FECHA19', 'CCOSTO19', 'NCCOSTO19', 'PASO19', 'VEZ19', 'TIPO19', 'FECHA20', 'CCOSTO20', 'NCCOSTO20', 'PASO20', 'VEZ20', 'TIPO20', 'FECHA21', 'CCOSTO21', 'NCCOSTO21', 'PASO21', 'VEZ21', 'TIPO21', 'FECHA22', 'CCOSTO22', 'NCCOSTO22', 'PASO22', 'VEZ22', 'TIPO22', 'FECHA23', 'CCOSTO23', 'NCCOSTO23', 'PASO23', 'VEZ23', 'TIPO23', 'FECHA24', 'CCOSTO24', 'NCCOSTO24', 'PASO24', 'VEZ24', 'TIPO24', 'FECHA25', 'CCOSTO25', 'NCCOSTO25', 'PASO25', 'VEZ25', 'TIPO25', 'SILISTA', 'REGISTRO', 'TALLER', 'NTALLER', 'CANTELAS', 'EXPORTA', 'PRENDA', 'NPRENDA', 'CCALIDAD', 'CODIGO', 'CODEMP', 'PROC', 'RGOCC', 'COSTO_PR', 'COSTO_PRME', 'TPCAM', 'STAT_ELI', 'USER_ELI', 'STAT_LNPRD', 'STAT_SOLD', 'TPDOC_SOLD', 'NUDOC_SOLD', 'FEC_SOLD', 'NUDOC_GRP']\n",
      "18872\n"
     ]
    }
   ],
   "source": [
    "print(dbf.field_names)\n",
    "print(len(dbf.records))\n"
   ]
  },
  {
   "cell_type": "code",
   "execution_count": null,
   "metadata": {},
   "outputs": [],
   "source": []
  },
  {
   "cell_type": "code",
   "execution_count": null,
   "metadata": {},
   "outputs": [],
   "source": [
    "# get the last record\n"
   ]
  }
 ],
 "metadata": {
  "kernelspec": {
   "display_name": "monrepos",
   "language": "python",
   "name": "python3"
  },
  "language_info": {
   "codemirror_mode": {
    "name": "ipython",
    "version": 3
   },
   "file_extension": ".py",
   "mimetype": "text/x-python",
   "name": "python",
   "nbconvert_exporter": "python",
   "pygments_lexer": "ipython3",
   "version": "3.10.11"
  },
  "orig_nbformat": 4
 },
 "nbformat": 4,
 "nbformat_minor": 2
}
