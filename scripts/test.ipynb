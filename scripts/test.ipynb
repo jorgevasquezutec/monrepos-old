{
 "cells": [
  {
   "cell_type": "markdown",
   "metadata": {},
   "source": []
  },
  {
   "cell_type": "code",
   "execution_count": 1,
   "metadata": {},
   "outputs": [],
   "source": [
    "import pandas as pd"
   ]
  },
  {
   "cell_type": "code",
   "execution_count": 3,
   "metadata": {},
   "outputs": [],
   "source": [
    "import pandas as pd\n",
    "df1 = pd.DataFrame(data = [[1,1],[3,1],[5,1]], columns = ['key','val'])\n",
    "df2 = pd.DataFrame(data = [[1,2],[3,2],[7,2]], columns = ['key','val'])\n",
    "df3 = pd.DataFrame(data = [[1,3],[2,3],[4,3]], columns = ['key','val'])"
   ]
  },
  {
   "cell_type": "code",
   "execution_count": 4,
   "metadata": {},
   "outputs": [],
   "source": [
    "df = df1.merge(df2, on = 'key', suffixes=['_1','_2']).merge(df3, on = 'key').rename(columns = {'val': 'val_3'})"
   ]
  },
  {
   "cell_type": "code",
   "execution_count": 11,
   "metadata": {},
   "outputs": [],
   "source": [
    "columns = [f'PASO{i}' for i in range(1, 25)]\n"
   ]
  },
  {
   "cell_type": "code",
   "execution_count": 12,
   "metadata": {},
   "outputs": [
    {
     "name": "stdout",
     "output_type": "stream",
     "text": [
      "PASO1 PASO2\n",
      "PASO3 PASO4\n",
      "PASO5 PASO6\n",
      "PASO7 PASO8\n",
      "PASO9 PASO10\n",
      "PASO11 PASO12\n",
      "PASO13 PASO14\n",
      "PASO15 PASO16\n",
      "PASO17 PASO18\n",
      "PASO19 PASO20\n",
      "PASO21 PASO22\n",
      "PASO23 PASO24\n"
     ]
    }
   ],
   "source": [
    "# quiero print de paso1,paso2\n",
    "#luego paso3,paso4 y asi sucesivamente\n",
    "for i in range(0, len(columns), 2):\n",
    "    print(columns[i], columns[i+1])\n"
   ]
  }
 ],
 "metadata": {
  "kernelspec": {
   "display_name": "monrepos",
   "language": "python",
   "name": "python3"
  },
  "language_info": {
   "codemirror_mode": {
    "name": "ipython",
    "version": 3
   },
   "file_extension": ".py",
   "mimetype": "text/x-python",
   "name": "python",
   "nbconvert_exporter": "python",
   "pygments_lexer": "ipython3",
   "version": "3.10.11"
  },
  "orig_nbformat": 4,
  "vscode": {
   "interpreter": {
    "hash": "cd511b1e7346601046146111ae56fd4dbcbb94170e8da3b82c2ce1f8da48b31a"
   }
  }
 },
 "nbformat": 4,
 "nbformat_minor": 2
}
